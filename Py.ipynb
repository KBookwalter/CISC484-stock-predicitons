{
 "cells": [
  {
   "cell_type": "code",
   "execution_count": 1,
   "id": "7c86b90b",
   "metadata": {},
   "outputs": [],
   "source": [
    "import os\n",
    "import numpy as np\n",
    "import re\n",
    "from matplotlib import pyplot\n",
    "from scipy import optimize\n",
    "from scipy.io import loadmat\n",
    "import pandas as pd\n",
    "from sklearn.tree import DecisionTreeClassifier\n",
    "from sklearn.tree import DecisionTreeRegressor\n",
    "from sklearn.ensemble import RandomForestClassifier\n",
    "from sklearn.linear_model import LogisticRegression \n",
    "from sklearn.model_selection import cross_val_score\n",
    "from sklearn.metrics import plot_confusion_matrix\n",
    "from sklearn.tree import DecisionTreeClassifier\n",
    "from sklearn import tree\n",
    "from sklearn.pipeline import Pipeline\n",
    "from sklearn.model_selection import train_test_split\n",
    "from sklearn.model_selection import GridSearchCV\n",
    "from sklearn.metrics import plot_confusion_matrix\n",
    "from sklearn import metrics \n",
    "from sklearn.metrics import f1_score\n",
    "import operator\n",
    "import pandas as pd\n",
    "import numpy as np\n",
    "from scipy import optimize\n",
    "from sklearn.metrics import confusion_matrix\n",
    "from sklearn.datasets import load_boston\n",
    "from sklearn.model_selection import train_test_split\n",
    "from sklearn.ensemble import RandomForestRegressor\n",
    "from sklearn.inspection import permutation_importance\n",
    "from matplotlib import pyplot as plt\n",
    "import matplotlib.pyplot as plt"
   ]
  },
  {
   "cell_type": "code",
   "execution_count": 2,
   "id": "ed813571",
   "metadata": {
    "scrolled": true
   },
   "outputs": [
    {
     "data": {
      "text/html": [
       "<div>\n",
       "<style scoped>\n",
       "    .dataframe tbody tr th:only-of-type {\n",
       "        vertical-align: middle;\n",
       "    }\n",
       "\n",
       "    .dataframe tbody tr th {\n",
       "        vertical-align: top;\n",
       "    }\n",
       "\n",
       "    .dataframe thead th {\n",
       "        text-align: right;\n",
       "    }\n",
       "</style>\n",
       "<table border=\"1\" class=\"dataframe\">\n",
       "  <thead>\n",
       "    <tr style=\"text-align: right;\">\n",
       "      <th></th>\n",
       "      <th>close</th>\n",
       "      <th>open</th>\n",
       "      <th>high</th>\n",
       "      <th>low</th>\n",
       "      <th>volume</th>\n",
       "      <th>negative</th>\n",
       "      <th>neutral</th>\n",
       "      <th>positive</th>\n",
       "      <th>compound</th>\n",
       "    </tr>\n",
       "  </thead>\n",
       "  <tbody>\n",
       "    <tr>\n",
       "      <th>0</th>\n",
       "      <td>1119.540</td>\n",
       "      <td>1083.00</td>\n",
       "      <td>1135.3300</td>\n",
       "      <td>1080.5000</td>\n",
       "      <td>12887738</td>\n",
       "      <td>0.000</td>\n",
       "      <td>1.000</td>\n",
       "      <td>0.000</td>\n",
       "      <td>0.0000</td>\n",
       "    </tr>\n",
       "    <tr>\n",
       "      <th>1</th>\n",
       "      <td>1494.100</td>\n",
       "      <td>1659.00</td>\n",
       "      <td>1794.9900</td>\n",
       "      <td>1471.1101</td>\n",
       "      <td>37309610</td>\n",
       "      <td>0.000</td>\n",
       "      <td>1.000</td>\n",
       "      <td>0.000</td>\n",
       "      <td>0.0000</td>\n",
       "    </tr>\n",
       "    <tr>\n",
       "      <th>2</th>\n",
       "      <td>1024.974</td>\n",
       "      <td>991.88</td>\n",
       "      <td>1027.4800</td>\n",
       "      <td>982.5000</td>\n",
       "      <td>17023324</td>\n",
       "      <td>0.000</td>\n",
       "      <td>0.943</td>\n",
       "      <td>0.057</td>\n",
       "      <td>0.2732</td>\n",
       "    </tr>\n",
       "    <tr>\n",
       "      <th>3</th>\n",
       "      <td>1371.000</td>\n",
       "      <td>1276.69</td>\n",
       "      <td>1377.7900</td>\n",
       "      <td>1266.0440</td>\n",
       "      <td>18885360</td>\n",
       "      <td>0.000</td>\n",
       "      <td>1.000</td>\n",
       "      <td>0.000</td>\n",
       "      <td>0.0000</td>\n",
       "    </tr>\n",
       "    <tr>\n",
       "      <th>4</th>\n",
       "      <td>1119.540</td>\n",
       "      <td>1083.00</td>\n",
       "      <td>1135.3300</td>\n",
       "      <td>1080.5000</td>\n",
       "      <td>12887738</td>\n",
       "      <td>0.046</td>\n",
       "      <td>0.771</td>\n",
       "      <td>0.182</td>\n",
       "      <td>0.7425</td>\n",
       "    </tr>\n",
       "    <tr>\n",
       "      <th>...</th>\n",
       "      <td>...</td>\n",
       "      <td>...</td>\n",
       "      <td>...</td>\n",
       "      <td>...</td>\n",
       "      <td>...</td>\n",
       "      <td>...</td>\n",
       "      <td>...</td>\n",
       "      <td>...</td>\n",
       "      <td>...</td>\n",
       "    </tr>\n",
       "    <tr>\n",
       "      <th>150</th>\n",
       "      <td>1009.890</td>\n",
       "      <td>969.01</td>\n",
       "      <td>1010.0000</td>\n",
       "      <td>948.5201</td>\n",
       "      <td>8732336</td>\n",
       "      <td>0.072</td>\n",
       "      <td>0.928</td>\n",
       "      <td>0.000</td>\n",
       "      <td>-0.3400</td>\n",
       "    </tr>\n",
       "    <tr>\n",
       "      <th>151</th>\n",
       "      <td>972.410</td>\n",
       "      <td>990.20</td>\n",
       "      <td>1018.9599</td>\n",
       "      <td>972.1100</td>\n",
       "      <td>29440376</td>\n",
       "      <td>0.000</td>\n",
       "      <td>0.927</td>\n",
       "      <td>0.073</td>\n",
       "      <td>0.3818</td>\n",
       "    </tr>\n",
       "    <tr>\n",
       "      <th>152</th>\n",
       "      <td>1371.000</td>\n",
       "      <td>1276.69</td>\n",
       "      <td>1377.7900</td>\n",
       "      <td>1266.0440</td>\n",
       "      <td>18885360</td>\n",
       "      <td>0.000</td>\n",
       "      <td>0.891</td>\n",
       "      <td>0.109</td>\n",
       "      <td>0.2960</td>\n",
       "    </tr>\n",
       "    <tr>\n",
       "      <th>153</th>\n",
       "      <td>985.980</td>\n",
       "      <td>954.27</td>\n",
       "      <td>985.9800</td>\n",
       "      <td>937.1500</td>\n",
       "      <td>8834648</td>\n",
       "      <td>0.000</td>\n",
       "      <td>1.000</td>\n",
       "      <td>0.000</td>\n",
       "      <td>0.0000</td>\n",
       "    </tr>\n",
       "    <tr>\n",
       "      <th>154</th>\n",
       "      <td>1001.660</td>\n",
       "      <td>998.88</td>\n",
       "      <td>1012.0000</td>\n",
       "      <td>994.0101</td>\n",
       "      <td>6015204</td>\n",
       "      <td>0.000</td>\n",
       "      <td>1.000</td>\n",
       "      <td>0.000</td>\n",
       "      <td>0.0000</td>\n",
       "    </tr>\n",
       "  </tbody>\n",
       "</table>\n",
       "<p>155 rows × 9 columns</p>\n",
       "</div>"
      ],
      "text/plain": [
       "        close     open       high        low    volume  negative  neutral  \\\n",
       "0    1119.540  1083.00  1135.3300  1080.5000  12887738     0.000    1.000   \n",
       "1    1494.100  1659.00  1794.9900  1471.1101  37309610     0.000    1.000   \n",
       "2    1024.974   991.88  1027.4800   982.5000  17023324     0.000    0.943   \n",
       "3    1371.000  1276.69  1377.7900  1266.0440  18885360     0.000    1.000   \n",
       "4    1119.540  1083.00  1135.3300  1080.5000  12887738     0.046    0.771   \n",
       "..        ...      ...        ...        ...       ...       ...      ...   \n",
       "150  1009.890   969.01  1010.0000   948.5201   8732336     0.072    0.928   \n",
       "151   972.410   990.20  1018.9599   972.1100  29440376     0.000    0.927   \n",
       "152  1371.000  1276.69  1377.7900  1266.0440  18885360     0.000    0.891   \n",
       "153   985.980   954.27   985.9800   937.1500   8834648     0.000    1.000   \n",
       "154  1001.660   998.88  1012.0000   994.0101   6015204     0.000    1.000   \n",
       "\n",
       "     positive  compound  \n",
       "0       0.000    0.0000  \n",
       "1       0.000    0.0000  \n",
       "2       0.057    0.2732  \n",
       "3       0.000    0.0000  \n",
       "4       0.182    0.7425  \n",
       "..        ...       ...  \n",
       "150     0.000   -0.3400  \n",
       "151     0.073    0.3818  \n",
       "152     0.109    0.2960  \n",
       "153     0.000    0.0000  \n",
       "154     0.000    0.0000  \n",
       "\n",
       "[155 rows x 9 columns]"
      ]
     },
     "execution_count": 2,
     "metadata": {},
     "output_type": "execute_result"
    }
   ],
   "source": [
    "df = pd.read_csv(\"./tsla_data_file_with_sent.csv\")\n",
    "df"
   ]
  },
  {
   "cell_type": "code",
   "execution_count": 3,
   "id": "1ddd3395",
   "metadata": {},
   "outputs": [
    {
     "name": "stderr",
     "output_type": "stream",
     "text": [
      "<ipython-input-3-008d0a65cd7e>:4: SettingWithCopyWarning: \n",
      "A value is trying to be set on a copy of a slice from a DataFrame\n",
      "\n",
      "See the caveats in the documentation: https://pandas.pydata.org/pandas-docs/stable/user_guide/indexing.html#returning-a-view-versus-a-copy\n",
      "  df['close'][i] = 1\n",
      "<ipython-input-3-008d0a65cd7e>:6: SettingWithCopyWarning: \n",
      "A value is trying to be set on a copy of a slice from a DataFrame\n",
      "\n",
      "See the caveats in the documentation: https://pandas.pydata.org/pandas-docs/stable/user_guide/indexing.html#returning-a-view-versus-a-copy\n",
      "  df['close'][i] = 0\n"
     ]
    },
    {
     "data": {
      "text/html": [
       "<div>\n",
       "<style scoped>\n",
       "    .dataframe tbody tr th:only-of-type {\n",
       "        vertical-align: middle;\n",
       "    }\n",
       "\n",
       "    .dataframe tbody tr th {\n",
       "        vertical-align: top;\n",
       "    }\n",
       "\n",
       "    .dataframe thead th {\n",
       "        text-align: right;\n",
       "    }\n",
       "</style>\n",
       "<table border=\"1\" class=\"dataframe\">\n",
       "  <thead>\n",
       "    <tr style=\"text-align: right;\">\n",
       "      <th></th>\n",
       "      <th>close</th>\n",
       "      <th>open</th>\n",
       "      <th>high</th>\n",
       "      <th>low</th>\n",
       "      <th>volume</th>\n",
       "      <th>negative</th>\n",
       "      <th>neutral</th>\n",
       "      <th>positive</th>\n",
       "      <th>compound</th>\n",
       "    </tr>\n",
       "  </thead>\n",
       "  <tbody>\n",
       "    <tr>\n",
       "      <th>0</th>\n",
       "      <td>1.0</td>\n",
       "      <td>1083.00</td>\n",
       "      <td>1135.3300</td>\n",
       "      <td>1080.5000</td>\n",
       "      <td>12887738</td>\n",
       "      <td>0.000</td>\n",
       "      <td>1.000</td>\n",
       "      <td>0.000</td>\n",
       "      <td>0.0000</td>\n",
       "    </tr>\n",
       "    <tr>\n",
       "      <th>1</th>\n",
       "      <td>0.0</td>\n",
       "      <td>1659.00</td>\n",
       "      <td>1794.9900</td>\n",
       "      <td>1471.1101</td>\n",
       "      <td>37309610</td>\n",
       "      <td>0.000</td>\n",
       "      <td>1.000</td>\n",
       "      <td>0.000</td>\n",
       "      <td>0.0000</td>\n",
       "    </tr>\n",
       "    <tr>\n",
       "      <th>2</th>\n",
       "      <td>1.0</td>\n",
       "      <td>991.88</td>\n",
       "      <td>1027.4800</td>\n",
       "      <td>982.5000</td>\n",
       "      <td>17023324</td>\n",
       "      <td>0.000</td>\n",
       "      <td>0.943</td>\n",
       "      <td>0.057</td>\n",
       "      <td>0.2732</td>\n",
       "    </tr>\n",
       "    <tr>\n",
       "      <th>3</th>\n",
       "      <td>1.0</td>\n",
       "      <td>1276.69</td>\n",
       "      <td>1377.7900</td>\n",
       "      <td>1266.0440</td>\n",
       "      <td>18885360</td>\n",
       "      <td>0.000</td>\n",
       "      <td>1.000</td>\n",
       "      <td>0.000</td>\n",
       "      <td>0.0000</td>\n",
       "    </tr>\n",
       "    <tr>\n",
       "      <th>4</th>\n",
       "      <td>1.0</td>\n",
       "      <td>1083.00</td>\n",
       "      <td>1135.3300</td>\n",
       "      <td>1080.5000</td>\n",
       "      <td>12887738</td>\n",
       "      <td>0.046</td>\n",
       "      <td>0.771</td>\n",
       "      <td>0.182</td>\n",
       "      <td>0.7425</td>\n",
       "    </tr>\n",
       "    <tr>\n",
       "      <th>...</th>\n",
       "      <td>...</td>\n",
       "      <td>...</td>\n",
       "      <td>...</td>\n",
       "      <td>...</td>\n",
       "      <td>...</td>\n",
       "      <td>...</td>\n",
       "      <td>...</td>\n",
       "      <td>...</td>\n",
       "      <td>...</td>\n",
       "    </tr>\n",
       "    <tr>\n",
       "      <th>150</th>\n",
       "      <td>1.0</td>\n",
       "      <td>969.01</td>\n",
       "      <td>1010.0000</td>\n",
       "      <td>948.5201</td>\n",
       "      <td>8732336</td>\n",
       "      <td>0.072</td>\n",
       "      <td>0.928</td>\n",
       "      <td>0.000</td>\n",
       "      <td>-0.3400</td>\n",
       "    </tr>\n",
       "    <tr>\n",
       "      <th>151</th>\n",
       "      <td>0.0</td>\n",
       "      <td>990.20</td>\n",
       "      <td>1018.9599</td>\n",
       "      <td>972.1100</td>\n",
       "      <td>29440376</td>\n",
       "      <td>0.000</td>\n",
       "      <td>0.927</td>\n",
       "      <td>0.073</td>\n",
       "      <td>0.3818</td>\n",
       "    </tr>\n",
       "    <tr>\n",
       "      <th>152</th>\n",
       "      <td>1.0</td>\n",
       "      <td>1276.69</td>\n",
       "      <td>1377.7900</td>\n",
       "      <td>1266.0440</td>\n",
       "      <td>18885360</td>\n",
       "      <td>0.000</td>\n",
       "      <td>0.891</td>\n",
       "      <td>0.109</td>\n",
       "      <td>0.2960</td>\n",
       "    </tr>\n",
       "    <tr>\n",
       "      <th>153</th>\n",
       "      <td>1.0</td>\n",
       "      <td>954.27</td>\n",
       "      <td>985.9800</td>\n",
       "      <td>937.1500</td>\n",
       "      <td>8834648</td>\n",
       "      <td>0.000</td>\n",
       "      <td>1.000</td>\n",
       "      <td>0.000</td>\n",
       "      <td>0.0000</td>\n",
       "    </tr>\n",
       "    <tr>\n",
       "      <th>154</th>\n",
       "      <td>1.0</td>\n",
       "      <td>998.88</td>\n",
       "      <td>1012.0000</td>\n",
       "      <td>994.0101</td>\n",
       "      <td>6015204</td>\n",
       "      <td>0.000</td>\n",
       "      <td>1.000</td>\n",
       "      <td>0.000</td>\n",
       "      <td>0.0000</td>\n",
       "    </tr>\n",
       "  </tbody>\n",
       "</table>\n",
       "<p>155 rows × 9 columns</p>\n",
       "</div>"
      ],
      "text/plain": [
       "     close     open       high        low    volume  negative  neutral  \\\n",
       "0      1.0  1083.00  1135.3300  1080.5000  12887738     0.000    1.000   \n",
       "1      0.0  1659.00  1794.9900  1471.1101  37309610     0.000    1.000   \n",
       "2      1.0   991.88  1027.4800   982.5000  17023324     0.000    0.943   \n",
       "3      1.0  1276.69  1377.7900  1266.0440  18885360     0.000    1.000   \n",
       "4      1.0  1083.00  1135.3300  1080.5000  12887738     0.046    0.771   \n",
       "..     ...      ...        ...        ...       ...       ...      ...   \n",
       "150    1.0   969.01  1010.0000   948.5201   8732336     0.072    0.928   \n",
       "151    0.0   990.20  1018.9599   972.1100  29440376     0.000    0.927   \n",
       "152    1.0  1276.69  1377.7900  1266.0440  18885360     0.000    0.891   \n",
       "153    1.0   954.27   985.9800   937.1500   8834648     0.000    1.000   \n",
       "154    1.0   998.88  1012.0000   994.0101   6015204     0.000    1.000   \n",
       "\n",
       "     positive  compound  \n",
       "0       0.000    0.0000  \n",
       "1       0.000    0.0000  \n",
       "2       0.057    0.2732  \n",
       "3       0.000    0.0000  \n",
       "4       0.182    0.7425  \n",
       "..        ...       ...  \n",
       "150     0.000   -0.3400  \n",
       "151     0.073    0.3818  \n",
       "152     0.109    0.2960  \n",
       "153     0.000    0.0000  \n",
       "154     0.000    0.0000  \n",
       "\n",
       "[155 rows x 9 columns]"
      ]
     },
     "execution_count": 3,
     "metadata": {},
     "output_type": "execute_result"
    }
   ],
   "source": [
    "for i in range(155):\n",
    "    new = df['close'][i] - df['open'][i]\n",
    "    if new >= 0:\n",
    "        df['close'][i] = 1\n",
    "    else:\n",
    "        df['close'][i] = 0\n",
    "df['close'].astype(int)\n",
    "df"
   ]
  },
  {
   "cell_type": "code",
   "execution_count": 4,
   "id": "10cf9623",
   "metadata": {
    "scrolled": true
   },
   "outputs": [],
   "source": [
    "close_label = df['close'] \n",
    "features = df[['open', 'high', 'low','negative', 'neutral', 'positive',  'compound']] "
   ]
  },
  {
   "cell_type": "code",
   "execution_count": 5,
   "id": "c837eabc",
   "metadata": {
    "scrolled": false
   },
   "outputs": [
    {
     "data": {
      "text/plain": [
       "0      1.0\n",
       "1      0.0\n",
       "2      1.0\n",
       "3      1.0\n",
       "4      1.0\n",
       "      ... \n",
       "150    1.0\n",
       "151    0.0\n",
       "152    1.0\n",
       "153    1.0\n",
       "154    1.0\n",
       "Name: close, Length: 155, dtype: float64"
      ]
     },
     "execution_count": 5,
     "metadata": {},
     "output_type": "execute_result"
    }
   ],
   "source": [
    "close_label"
   ]
  },
  {
   "cell_type": "code",
   "execution_count": 6,
   "id": "a5e9fdc8",
   "metadata": {},
   "outputs": [
    {
     "data": {
      "text/plain": [
       "124    1.0\n",
       "125    0.0\n",
       "126    1.0\n",
       "127    1.0\n",
       "128    1.0\n",
       "129    1.0\n",
       "130    1.0\n",
       "131    1.0\n",
       "132    1.0\n",
       "133    0.0\n",
       "134    1.0\n",
       "135    1.0\n",
       "136    1.0\n",
       "137    1.0\n",
       "138    1.0\n",
       "139    0.0\n",
       "140    0.0\n",
       "141    1.0\n",
       "142    1.0\n",
       "143    0.0\n",
       "144    1.0\n",
       "145    1.0\n",
       "146    1.0\n",
       "147    1.0\n",
       "148    1.0\n",
       "149    1.0\n",
       "150    1.0\n",
       "151    0.0\n",
       "152    1.0\n",
       "153    1.0\n",
       "154    1.0\n",
       "Name: close, dtype: float64"
      ]
     },
     "execution_count": 6,
     "metadata": {},
     "output_type": "execute_result"
    }
   ],
   "source": [
    "train_size = int(len(df)*.8)\n",
    "df_train = df[:train_size]\n",
    "df_test = df[train_size:]\n",
    "\n",
    "df_train_x = df_train[['open', 'high', 'low', 'negative', 'neutral', 'positive', 'compound']]\n",
    "df_train_y = df_train['close'] \n",
    "\n",
    "df_test_x = df_test[['open', 'high', 'low', 'negative', 'neutral', 'positive', 'compound']]\n",
    "df_test_y = df_test['close']\n",
    "df_test_y"
   ]
  },
  {
   "cell_type": "code",
   "execution_count": 7,
   "id": "3591ec2c",
   "metadata": {
    "scrolled": false
   },
   "outputs": [
    {
     "data": {
      "text/plain": [
       "RandomForestClassifier()"
      ]
     },
     "execution_count": 7,
     "metadata": {},
     "output_type": "execute_result"
    }
   ],
   "source": [
    "forest = RandomForestClassifier()\n",
    "forest.fit(df_train_x, df_train_y)"
   ]
  },
  {
   "cell_type": "code",
   "execution_count": 8,
   "id": "1b078491",
   "metadata": {
    "scrolled": true
   },
   "outputs": [
    {
     "name": "stdout",
     "output_type": "stream",
     "text": [
      "Accuracy: 0.9677\n"
     ]
    }
   ],
   "source": [
    "print(\"Accuracy: \" + str(round(forest.score(df_test_x, df_test_y), 4)))"
   ]
  },
  {
   "cell_type": "code",
   "execution_count": 9,
   "id": "930c5362",
   "metadata": {
    "scrolled": false
   },
   "outputs": [
    {
     "data": {
      "text/html": [
       "<div>\n",
       "<style scoped>\n",
       "    .dataframe tbody tr th:only-of-type {\n",
       "        vertical-align: middle;\n",
       "    }\n",
       "\n",
       "    .dataframe tbody tr th {\n",
       "        vertical-align: top;\n",
       "    }\n",
       "\n",
       "    .dataframe thead th {\n",
       "        text-align: right;\n",
       "    }\n",
       "</style>\n",
       "<table border=\"1\" class=\"dataframe\">\n",
       "  <thead>\n",
       "    <tr style=\"text-align: right;\">\n",
       "      <th></th>\n",
       "      <th>importance</th>\n",
       "    </tr>\n",
       "  </thead>\n",
       "  <tbody>\n",
       "    <tr>\n",
       "      <th>open</th>\n",
       "      <td>0.266208</td>\n",
       "    </tr>\n",
       "    <tr>\n",
       "      <th>low</th>\n",
       "      <td>0.242347</td>\n",
       "    </tr>\n",
       "    <tr>\n",
       "      <th>high</th>\n",
       "      <td>0.239825</td>\n",
       "    </tr>\n",
       "    <tr>\n",
       "      <th>neutral</th>\n",
       "      <td>0.082015</td>\n",
       "    </tr>\n",
       "    <tr>\n",
       "      <th>compound</th>\n",
       "      <td>0.081616</td>\n",
       "    </tr>\n",
       "    <tr>\n",
       "      <th>positive</th>\n",
       "      <td>0.055420</td>\n",
       "    </tr>\n",
       "    <tr>\n",
       "      <th>negative</th>\n",
       "      <td>0.032568</td>\n",
       "    </tr>\n",
       "  </tbody>\n",
       "</table>\n",
       "</div>"
      ],
      "text/plain": [
       "          importance\n",
       "open        0.266208\n",
       "low         0.242347\n",
       "high        0.239825\n",
       "neutral     0.082015\n",
       "compound    0.081616\n",
       "positive    0.055420\n",
       "negative    0.032568"
      ]
     },
     "execution_count": 9,
     "metadata": {},
     "output_type": "execute_result"
    }
   ],
   "source": [
    "importances = forest.feature_importances_\n",
    "features = df_test_x.columns\n",
    "feature_importances = pd.DataFrame(forest.feature_importances_, index = features,  columns=['importance']).sort_values('importance', ascending=False)\n",
    "feature_importances"
   ]
  },
  {
   "cell_type": "code",
   "execution_count": 10,
   "id": "4a783798",
   "metadata": {
    "scrolled": true
   },
   "outputs": [],
   "source": [
    "tree = DecisionTreeClassifier()"
   ]
  },
  {
   "cell_type": "code",
   "execution_count": 11,
   "id": "1b6e7c2c",
   "metadata": {},
   "outputs": [
    {
     "data": {
      "text/plain": [
       "DecisionTreeClassifier()"
      ]
     },
     "execution_count": 11,
     "metadata": {},
     "output_type": "execute_result"
    }
   ],
   "source": [
    "tree.fit(df_train_x, df_train_y)"
   ]
  },
  {
   "cell_type": "code",
   "execution_count": 12,
   "id": "57445df8",
   "metadata": {
    "scrolled": false
   },
   "outputs": [
    {
     "name": "stdout",
     "output_type": "stream",
     "text": [
      "Accuracy: 1.0\n"
     ]
    }
   ],
   "source": [
    "print(\"Accuracy: \" + str(round(tree.score(df_test_x, df_test_y), 4)))"
   ]
  },
  {
   "cell_type": "code",
   "execution_count": 13,
   "id": "ccf37371",
   "metadata": {},
   "outputs": [
    {
     "data": {
      "text/html": [
       "<div>\n",
       "<style scoped>\n",
       "    .dataframe tbody tr th:only-of-type {\n",
       "        vertical-align: middle;\n",
       "    }\n",
       "\n",
       "    .dataframe tbody tr th {\n",
       "        vertical-align: top;\n",
       "    }\n",
       "\n",
       "    .dataframe thead th {\n",
       "        text-align: right;\n",
       "    }\n",
       "</style>\n",
       "<table border=\"1\" class=\"dataframe\">\n",
       "  <thead>\n",
       "    <tr style=\"text-align: right;\">\n",
       "      <th></th>\n",
       "      <th>importance</th>\n",
       "    </tr>\n",
       "  </thead>\n",
       "  <tbody>\n",
       "    <tr>\n",
       "      <th>low</th>\n",
       "      <td>0.337185</td>\n",
       "    </tr>\n",
       "    <tr>\n",
       "      <th>open</th>\n",
       "      <td>0.293173</td>\n",
       "    </tr>\n",
       "    <tr>\n",
       "      <th>high</th>\n",
       "      <td>0.261806</td>\n",
       "    </tr>\n",
       "    <tr>\n",
       "      <th>positive</th>\n",
       "      <td>0.034560</td>\n",
       "    </tr>\n",
       "    <tr>\n",
       "      <th>neutral</th>\n",
       "      <td>0.030616</td>\n",
       "    </tr>\n",
       "    <tr>\n",
       "      <th>compound</th>\n",
       "      <td>0.021925</td>\n",
       "    </tr>\n",
       "    <tr>\n",
       "      <th>negative</th>\n",
       "      <td>0.020736</td>\n",
       "    </tr>\n",
       "  </tbody>\n",
       "</table>\n",
       "</div>"
      ],
      "text/plain": [
       "          importance\n",
       "low         0.337185\n",
       "open        0.293173\n",
       "high        0.261806\n",
       "positive    0.034560\n",
       "neutral     0.030616\n",
       "compound    0.021925\n",
       "negative    0.020736"
      ]
     },
     "execution_count": 13,
     "metadata": {},
     "output_type": "execute_result"
    }
   ],
   "source": [
    "importances = forest.feature_importances_\n",
    "features = df_test_x.columns\n",
    "feature_importances = pd.DataFrame(tree.feature_importances_, index = features,  columns=['importance']).sort_values('importance', ascending=False)\n",
    "feature_importances"
   ]
  },
  {
   "cell_type": "code",
   "execution_count": 14,
   "id": "9132398a",
   "metadata": {
    "scrolled": true
   },
   "outputs": [
    {
     "data": {
      "text/plain": [
       "<BarContainer object of 7 artists>"
      ]
     },
     "execution_count": 14,
     "metadata": {},
     "output_type": "execute_result"
    },
    {
     "data": {
      "image/png": "[encoded data removed]",
      "text/plain": [
       "<Figure size 432x288 with 1 Axes>"
      ]
     },
     "metadata": {
      "needs_background": "light"
     },
     "output_type": "display_data"
    }
   ],
   "source": [
    "plt.barh(features, tree.feature_importances_)"
   ]
  },
  {
   "cell_type": "code",
   "execution_count": 15,
   "id": "f588443f",
   "metadata": {},
   "outputs": [
    {
     "data": {
      "text/plain": [
       "<BarContainer object of 7 artists>"
      ]
     },
     "execution_count": 15,
     "metadata": {},
     "output_type": "execute_result"
    },
    {
     "data": {
      "image/png": "[encoded data removed]",
      "text/plain": [
       "<Figure size 432x288 with 1 Axes>"
      ]
     },
     "metadata": {
      "needs_background": "light"
     },
     "output_type": "display_data"
    }
   ],
   "source": [
    "plt.barh(features, forest.feature_importances_)"
   ]
  },
  {
   "cell_type": "code",
   "execution_count": null,
   "id": "786e4fea",
   "metadata": {},
   "outputs": [],
   "source": []
  }
 ],
 "metadata": {
  "kernelspec": {
   "display_name": "Python 3",
   "language": "python",
   "name": "python3"
  },
  "language_info": {
   "codemirror_mode": {
    "name": "ipython",
    "version": 3
   },
   "file_extension": ".py",
   "mimetype": "text/x-python",
   "name": "python",
   "nbconvert_exporter": "python",
   "pygments_lexer": "ipython3",
   "version": "3.8.8"
  }
 },
 "nbformat": 4,
 "nbformat_minor": 5
}
