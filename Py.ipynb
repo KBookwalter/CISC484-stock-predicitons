{
 "cells": [
  {
   "cell_type": "code",
   "execution_count": 2,
   "id": "7c86b90b",
   "metadata": {},
   "outputs": [],
   "source": [
    "import os\n",
    "import numpy as np\n",
    "import re\n",
    "from matplotlib import pyplot\n",
    "from scipy import optimize\n",
    "from scipy.io import loadmat\n",
    "import pandas as pd\n",
    "from sklearn.tree import DecisionTreeClassifier\n",
    "from sklearn.tree import DecisionTreeRegressor\n",
    "from sklearn.ensemble import RandomForestClassifier\n",
    "from sklearn.linear_model import LogisticRegression \n",
    "from sklearn.model_selection import cross_val_score\n",
    "from sklearn.metrics import plot_confusion_matrix\n",
    "from sklearn.tree import DecisionTreeClassifier\n",
    "from sklearn import tree\n",
    "from sklearn.pipeline import Pipeline\n",
    "from sklearn.model_selection import train_test_split\n",
    "from sklearn.model_selection import GridSearchCV\n",
    "from sklearn.metrics import plot_confusion_matrix\n",
    "from sklearn import metrics \n",
    "from sklearn.metrics import f1_score\n",
    "import operator\n",
    "import pandas as pd\n",
    "import numpy as np\n",
    "from scipy import optimize\n",
    "from sklearn.metrics import confusion_matrix\n",
    "from sklearn.datasets import load_boston\n",
    "from sklearn.model_selection import train_test_split\n",
    "from sklearn.ensemble import RandomForestRegressor\n",
    "from sklearn.inspection import permutation_importance\n",
    "from matplotlib import pyplot as plt\n",
    "import matplotlib.pyplot as plt"
   ]
  },
  {
   "cell_type": "code",
   "execution_count": 3,
   "id": "ed813571",
   "metadata": {
    "scrolled": true
   },
   "outputs": [
    {
     "data": {
      "text/html": [
       "<div>\n",
       "<style scoped>\n",
       "    .dataframe tbody tr th:only-of-type {\n",
       "        vertical-align: middle;\n",
       "    }\n",
       "\n",
       "    .dataframe tbody tr th {\n",
       "        vertical-align: top;\n",
       "    }\n",
       "\n",
       "    .dataframe thead th {\n",
       "        text-align: right;\n",
       "    }\n",
       "</style>\n",
       "<table border=\"1\" class=\"dataframe\">\n",
       "  <thead>\n",
       "    <tr style=\"text-align: right;\">\n",
       "      <th></th>\n",
       "      <th>close</th>\n",
       "      <th>open</th>\n",
       "      <th>high</th>\n",
       "      <th>low</th>\n",
       "      <th>volume</th>\n",
       "      <th>sentiment</th>\n",
       "    </tr>\n",
       "  </thead>\n",
       "  <tbody>\n",
       "    <tr>\n",
       "      <th>0</th>\n",
       "      <td>364.01</td>\n",
       "      <td>365.12</td>\n",
       "      <td>367.3600</td>\n",
       "      <td>363.9100</td>\n",
       "      <td>25429807</td>\n",
       "      <td>0.0000</td>\n",
       "    </tr>\n",
       "    <tr>\n",
       "      <th>1</th>\n",
       "      <td>381.91</td>\n",
       "      <td>389.06</td>\n",
       "      <td>399.8200</td>\n",
       "      <td>381.0300</td>\n",
       "      <td>43528308</td>\n",
       "      <td>0.0000</td>\n",
       "    </tr>\n",
       "    <tr>\n",
       "      <th>2</th>\n",
       "      <td>352.78</td>\n",
       "      <td>347.90</td>\n",
       "      <td>354.7700</td>\n",
       "      <td>346.0900</td>\n",
       "      <td>76721048</td>\n",
       "      <td>0.2732</td>\n",
       "    </tr>\n",
       "    <tr>\n",
       "      <th>3</th>\n",
       "      <td>373.81</td>\n",
       "      <td>370.00</td>\n",
       "      <td>375.7800</td>\n",
       "      <td>369.8700</td>\n",
       "      <td>26084791</td>\n",
       "      <td>0.0000</td>\n",
       "    </tr>\n",
       "    <tr>\n",
       "      <th>4</th>\n",
       "      <td>364.01</td>\n",
       "      <td>365.12</td>\n",
       "      <td>367.3600</td>\n",
       "      <td>363.9100</td>\n",
       "      <td>25429807</td>\n",
       "      <td>0.7425</td>\n",
       "    </tr>\n",
       "    <tr>\n",
       "      <th>...</th>\n",
       "      <td>...</td>\n",
       "      <td>...</td>\n",
       "      <td>...</td>\n",
       "      <td>...</td>\n",
       "      <td>...</td>\n",
       "      <td>...</td>\n",
       "    </tr>\n",
       "    <tr>\n",
       "      <th>150</th>\n",
       "      <td>362.00</td>\n",
       "      <td>353.25</td>\n",
       "      <td>362.1736</td>\n",
       "      <td>351.2800</td>\n",
       "      <td>29154717</td>\n",
       "      <td>-0.3400</td>\n",
       "    </tr>\n",
       "    <tr>\n",
       "      <th>151</th>\n",
       "      <td>336.08</td>\n",
       "      <td>349.31</td>\n",
       "      <td>351.0600</td>\n",
       "      <td>335.5900</td>\n",
       "      <td>44058913</td>\n",
       "      <td>0.3818</td>\n",
       "    </tr>\n",
       "    <tr>\n",
       "      <th>152</th>\n",
       "      <td>373.81</td>\n",
       "      <td>370.00</td>\n",
       "      <td>375.7800</td>\n",
       "      <td>369.8700</td>\n",
       "      <td>26084791</td>\n",
       "      <td>0.2960</td>\n",
       "    </tr>\n",
       "    <tr>\n",
       "      <th>153</th>\n",
       "      <td>364.88</td>\n",
       "      <td>360.70</td>\n",
       "      <td>365.0000</td>\n",
       "      <td>357.5700</td>\n",
       "      <td>32015338</td>\n",
       "      <td>0.0000</td>\n",
       "    </tr>\n",
       "    <tr>\n",
       "      <th>154</th>\n",
       "      <td>366.37</td>\n",
       "      <td>364.00</td>\n",
       "      <td>372.3700</td>\n",
       "      <td>362.2701</td>\n",
       "      <td>50255788</td>\n",
       "      <td>0.0000</td>\n",
       "    </tr>\n",
       "  </tbody>\n",
       "</table>\n",
       "<p>155 rows × 6 columns</p>\n",
       "</div>"
      ],
      "text/plain": [
       "      close    open      high       low    volume  sentiment\n",
       "0    364.01  365.12  367.3600  363.9100  25429807     0.0000\n",
       "1    381.91  389.06  399.8200  381.0300  43528308     0.0000\n",
       "2    352.78  347.90  354.7700  346.0900  76721048     0.2732\n",
       "3    373.81  370.00  375.7800  369.8700  26084791     0.0000\n",
       "4    364.01  365.12  367.3600  363.9100  25429807     0.7425\n",
       "..      ...     ...       ...       ...       ...        ...\n",
       "150  362.00  353.25  362.1736  351.2800  29154717    -0.3400\n",
       "151  336.08  349.31  351.0600  335.5900  44058913     0.3818\n",
       "152  373.81  370.00  375.7800  369.8700  26084791     0.2960\n",
       "153  364.88  360.70  365.0000  357.5700  32015338     0.0000\n",
       "154  366.37  364.00  372.3700  362.2701  50255788     0.0000\n",
       "\n",
       "[155 rows x 6 columns]"
      ]
     },
     "execution_count": 3,
     "metadata": {},
     "output_type": "execute_result"
    }
   ],
   "source": [
    "df = pd.read_csv(\"./tsla_data_file_with_sent.csv\")\n",
    "df"
   ]
  },
  {
   "cell_type": "code",
   "execution_count": 4,
   "id": "075a476f",
   "metadata": {
    "scrolled": true
   },
   "outputs": [
    {
     "data": {
      "text/html": [
       "<div>\n",
       "<style scoped>\n",
       "    .dataframe tbody tr th:only-of-type {\n",
       "        vertical-align: middle;\n",
       "    }\n",
       "\n",
       "    .dataframe tbody tr th {\n",
       "        vertical-align: top;\n",
       "    }\n",
       "\n",
       "    .dataframe thead th {\n",
       "        text-align: right;\n",
       "    }\n",
       "</style>\n",
       "<table border=\"1\" class=\"dataframe\">\n",
       "  <thead>\n",
       "    <tr style=\"text-align: right;\">\n",
       "      <th></th>\n",
       "      <th>close</th>\n",
       "      <th>open</th>\n",
       "      <th>high</th>\n",
       "      <th>low</th>\n",
       "      <th>volume</th>\n",
       "      <th>sentiment</th>\n",
       "    </tr>\n",
       "  </thead>\n",
       "  <tbody>\n",
       "    <tr>\n",
       "      <th>0</th>\n",
       "      <td>364.01</td>\n",
       "      <td>365.12</td>\n",
       "      <td>367.3600</td>\n",
       "      <td>363.9100</td>\n",
       "      <td>25429807</td>\n",
       "      <td>0.0000</td>\n",
       "    </tr>\n",
       "    <tr>\n",
       "      <th>1</th>\n",
       "      <td>381.91</td>\n",
       "      <td>389.06</td>\n",
       "      <td>399.8200</td>\n",
       "      <td>381.0300</td>\n",
       "      <td>43528308</td>\n",
       "      <td>0.0000</td>\n",
       "    </tr>\n",
       "    <tr>\n",
       "      <th>2</th>\n",
       "      <td>352.78</td>\n",
       "      <td>347.90</td>\n",
       "      <td>354.7700</td>\n",
       "      <td>346.0900</td>\n",
       "      <td>76721048</td>\n",
       "      <td>0.2732</td>\n",
       "    </tr>\n",
       "    <tr>\n",
       "      <th>3</th>\n",
       "      <td>373.81</td>\n",
       "      <td>370.00</td>\n",
       "      <td>375.7800</td>\n",
       "      <td>369.8700</td>\n",
       "      <td>26084791</td>\n",
       "      <td>0.0000</td>\n",
       "    </tr>\n",
       "    <tr>\n",
       "      <th>4</th>\n",
       "      <td>364.01</td>\n",
       "      <td>365.12</td>\n",
       "      <td>367.3600</td>\n",
       "      <td>363.9100</td>\n",
       "      <td>25429807</td>\n",
       "      <td>0.7425</td>\n",
       "    </tr>\n",
       "    <tr>\n",
       "      <th>...</th>\n",
       "      <td>...</td>\n",
       "      <td>...</td>\n",
       "      <td>...</td>\n",
       "      <td>...</td>\n",
       "      <td>...</td>\n",
       "      <td>...</td>\n",
       "    </tr>\n",
       "    <tr>\n",
       "      <th>150</th>\n",
       "      <td>362.00</td>\n",
       "      <td>353.25</td>\n",
       "      <td>362.1736</td>\n",
       "      <td>351.2800</td>\n",
       "      <td>29154717</td>\n",
       "      <td>-0.3400</td>\n",
       "    </tr>\n",
       "    <tr>\n",
       "      <th>151</th>\n",
       "      <td>336.08</td>\n",
       "      <td>349.31</td>\n",
       "      <td>351.0600</td>\n",
       "      <td>335.5900</td>\n",
       "      <td>44058913</td>\n",
       "      <td>0.3818</td>\n",
       "    </tr>\n",
       "    <tr>\n",
       "      <th>152</th>\n",
       "      <td>373.81</td>\n",
       "      <td>370.00</td>\n",
       "      <td>375.7800</td>\n",
       "      <td>369.8700</td>\n",
       "      <td>26084791</td>\n",
       "      <td>0.2960</td>\n",
       "    </tr>\n",
       "    <tr>\n",
       "      <th>153</th>\n",
       "      <td>364.88</td>\n",
       "      <td>360.70</td>\n",
       "      <td>365.0000</td>\n",
       "      <td>357.5700</td>\n",
       "      <td>32015338</td>\n",
       "      <td>0.0000</td>\n",
       "    </tr>\n",
       "    <tr>\n",
       "      <th>154</th>\n",
       "      <td>366.37</td>\n",
       "      <td>364.00</td>\n",
       "      <td>372.3700</td>\n",
       "      <td>362.2701</td>\n",
       "      <td>50255788</td>\n",
       "      <td>0.0000</td>\n",
       "    </tr>\n",
       "  </tbody>\n",
       "</table>\n",
       "<p>155 rows × 6 columns</p>\n",
       "</div>"
      ],
      "text/plain": [
       "      close    open      high       low    volume  sentiment\n",
       "0    364.01  365.12  367.3600  363.9100  25429807     0.0000\n",
       "1    381.91  389.06  399.8200  381.0300  43528308     0.0000\n",
       "2    352.78  347.90  354.7700  346.0900  76721048     0.2732\n",
       "3    373.81  370.00  375.7800  369.8700  26084791     0.0000\n",
       "4    364.01  365.12  367.3600  363.9100  25429807     0.7425\n",
       "..      ...     ...       ...       ...       ...        ...\n",
       "150  362.00  353.25  362.1736  351.2800  29154717    -0.3400\n",
       "151  336.08  349.31  351.0600  335.5900  44058913     0.3818\n",
       "152  373.81  370.00  375.7800  369.8700  26084791     0.2960\n",
       "153  364.88  360.70  365.0000  357.5700  32015338     0.0000\n",
       "154  366.37  364.00  372.3700  362.2701  50255788     0.0000\n",
       "\n",
       "[155 rows x 6 columns]"
      ]
     },
     "execution_count": 4,
     "metadata": {},
     "output_type": "execute_result"
    }
   ],
   "source": [
    "dfcp = df\n",
    "dfcp"
   ]
  },
  {
   "cell_type": "code",
   "execution_count": 5,
   "id": "1ddd3395",
   "metadata": {},
   "outputs": [
    {
     "name": "stderr",
     "output_type": "stream",
     "text": [
      "<ipython-input-5-7c1b5f4b9ad3>:6: SettingWithCopyWarning: \n",
      "A value is trying to be set on a copy of a slice from a DataFrame\n",
      "\n",
      "See the caveats in the documentation: https://pandas.pydata.org/pandas-docs/stable/user_guide/indexing.html#returning-a-view-versus-a-copy\n",
      "  dfcp['close'][i] = 0\n",
      "<ipython-input-5-7c1b5f4b9ad3>:4: SettingWithCopyWarning: \n",
      "A value is trying to be set on a copy of a slice from a DataFrame\n",
      "\n",
      "See the caveats in the documentation: https://pandas.pydata.org/pandas-docs/stable/user_guide/indexing.html#returning-a-view-versus-a-copy\n",
      "  dfcp['close'][i] = 1\n"
     ]
    },
    {
     "data": {
      "text/html": [
       "<div>\n",
       "<style scoped>\n",
       "    .dataframe tbody tr th:only-of-type {\n",
       "        vertical-align: middle;\n",
       "    }\n",
       "\n",
       "    .dataframe tbody tr th {\n",
       "        vertical-align: top;\n",
       "    }\n",
       "\n",
       "    .dataframe thead th {\n",
       "        text-align: right;\n",
       "    }\n",
       "</style>\n",
       "<table border=\"1\" class=\"dataframe\">\n",
       "  <thead>\n",
       "    <tr style=\"text-align: right;\">\n",
       "      <th></th>\n",
       "      <th>close</th>\n",
       "      <th>open</th>\n",
       "      <th>high</th>\n",
       "      <th>low</th>\n",
       "      <th>volume</th>\n",
       "      <th>sentiment</th>\n",
       "    </tr>\n",
       "  </thead>\n",
       "  <tbody>\n",
       "    <tr>\n",
       "      <th>0</th>\n",
       "      <td>0</td>\n",
       "      <td>365</td>\n",
       "      <td>367</td>\n",
       "      <td>363</td>\n",
       "      <td>25429807</td>\n",
       "      <td>0</td>\n",
       "    </tr>\n",
       "    <tr>\n",
       "      <th>1</th>\n",
       "      <td>0</td>\n",
       "      <td>389</td>\n",
       "      <td>399</td>\n",
       "      <td>381</td>\n",
       "      <td>43528308</td>\n",
       "      <td>0</td>\n",
       "    </tr>\n",
       "    <tr>\n",
       "      <th>2</th>\n",
       "      <td>1</td>\n",
       "      <td>347</td>\n",
       "      <td>354</td>\n",
       "      <td>346</td>\n",
       "      <td>76721048</td>\n",
       "      <td>0</td>\n",
       "    </tr>\n",
       "    <tr>\n",
       "      <th>3</th>\n",
       "      <td>1</td>\n",
       "      <td>370</td>\n",
       "      <td>375</td>\n",
       "      <td>369</td>\n",
       "      <td>26084791</td>\n",
       "      <td>0</td>\n",
       "    </tr>\n",
       "    <tr>\n",
       "      <th>4</th>\n",
       "      <td>0</td>\n",
       "      <td>365</td>\n",
       "      <td>367</td>\n",
       "      <td>363</td>\n",
       "      <td>25429807</td>\n",
       "      <td>0</td>\n",
       "    </tr>\n",
       "    <tr>\n",
       "      <th>...</th>\n",
       "      <td>...</td>\n",
       "      <td>...</td>\n",
       "      <td>...</td>\n",
       "      <td>...</td>\n",
       "      <td>...</td>\n",
       "      <td>...</td>\n",
       "    </tr>\n",
       "    <tr>\n",
       "      <th>150</th>\n",
       "      <td>1</td>\n",
       "      <td>353</td>\n",
       "      <td>362</td>\n",
       "      <td>351</td>\n",
       "      <td>29154717</td>\n",
       "      <td>0</td>\n",
       "    </tr>\n",
       "    <tr>\n",
       "      <th>151</th>\n",
       "      <td>0</td>\n",
       "      <td>349</td>\n",
       "      <td>351</td>\n",
       "      <td>335</td>\n",
       "      <td>44058913</td>\n",
       "      <td>0</td>\n",
       "    </tr>\n",
       "    <tr>\n",
       "      <th>152</th>\n",
       "      <td>1</td>\n",
       "      <td>370</td>\n",
       "      <td>375</td>\n",
       "      <td>369</td>\n",
       "      <td>26084791</td>\n",
       "      <td>0</td>\n",
       "    </tr>\n",
       "    <tr>\n",
       "      <th>153</th>\n",
       "      <td>1</td>\n",
       "      <td>360</td>\n",
       "      <td>365</td>\n",
       "      <td>357</td>\n",
       "      <td>32015338</td>\n",
       "      <td>0</td>\n",
       "    </tr>\n",
       "    <tr>\n",
       "      <th>154</th>\n",
       "      <td>1</td>\n",
       "      <td>364</td>\n",
       "      <td>372</td>\n",
       "      <td>362</td>\n",
       "      <td>50255788</td>\n",
       "      <td>0</td>\n",
       "    </tr>\n",
       "  </tbody>\n",
       "</table>\n",
       "<p>155 rows × 6 columns</p>\n",
       "</div>"
      ],
      "text/plain": [
       "     close  open  high  low    volume  sentiment\n",
       "0        0   365   367  363  25429807          0\n",
       "1        0   389   399  381  43528308          0\n",
       "2        1   347   354  346  76721048          0\n",
       "3        1   370   375  369  26084791          0\n",
       "4        0   365   367  363  25429807          0\n",
       "..     ...   ...   ...  ...       ...        ...\n",
       "150      1   353   362  351  29154717          0\n",
       "151      0   349   351  335  44058913          0\n",
       "152      1   370   375  369  26084791          0\n",
       "153      1   360   365  357  32015338          0\n",
       "154      1   364   372  362  50255788          0\n",
       "\n",
       "[155 rows x 6 columns]"
      ]
     },
     "execution_count": 5,
     "metadata": {},
     "output_type": "execute_result"
    }
   ],
   "source": [
    "for i in range(155):\n",
    "    new = df['close'][i] - df['open'][i]\n",
    "    if new >= 0:\n",
    "        dfcp['close'][i] = 1\n",
    "    else:\n",
    "        dfcp['close'][i] = 0\n",
    "dfcp.astype(int)"
   ]
  },
  {
   "cell_type": "code",
   "execution_count": 6,
   "id": "10cf9623",
   "metadata": {
    "scrolled": true
   },
   "outputs": [],
   "source": [
    "close_label = dfcp['close'] \n",
    "features = df[['open', 'high', 'low', 'volume', 'sentiment']] "
   ]
  },
  {
   "cell_type": "code",
   "execution_count": 7,
   "id": "c837eabc",
   "metadata": {
    "scrolled": true
   },
   "outputs": [
    {
     "data": {
      "text/plain": [
       "0      0.0\n",
       "1      0.0\n",
       "2      1.0\n",
       "3      1.0\n",
       "4      0.0\n",
       "      ... \n",
       "150    1.0\n",
       "151    0.0\n",
       "152    1.0\n",
       "153    1.0\n",
       "154    1.0\n",
       "Name: close, Length: 155, dtype: float64"
      ]
     },
     "execution_count": 7,
     "metadata": {},
     "output_type": "execute_result"
    }
   ],
   "source": [
    "close_label"
   ]
  },
  {
   "cell_type": "code",
   "execution_count": 8,
   "id": "a5e9fdc8",
   "metadata": {},
   "outputs": [
    {
     "data": {
      "text/plain": [
       "124    1.0\n",
       "125    0.0\n",
       "126    0.0\n",
       "127    1.0\n",
       "128    0.0\n",
       "129    0.0\n",
       "130    1.0\n",
       "131    1.0\n",
       "132    1.0\n",
       "133    0.0\n",
       "134    1.0\n",
       "135    0.0\n",
       "136    1.0\n",
       "137    1.0\n",
       "138    1.0\n",
       "139    0.0\n",
       "140    0.0\n",
       "141    1.0\n",
       "142    1.0\n",
       "143    0.0\n",
       "144    0.0\n",
       "145    1.0\n",
       "146    0.0\n",
       "147    1.0\n",
       "148    0.0\n",
       "149    1.0\n",
       "150    1.0\n",
       "151    0.0\n",
       "152    1.0\n",
       "153    1.0\n",
       "154    1.0\n",
       "Name: close, dtype: float64"
      ]
     },
     "execution_count": 8,
     "metadata": {},
     "output_type": "execute_result"
    }
   ],
   "source": [
    "train_size = int(len(df)*.8)\n",
    "df_train = df[:train_size]\n",
    "df_test = df[train_size:]\n",
    "\n",
    "df_train_x = df_train[['open', 'high', 'low', 'sentiment']]\n",
    "df_train_y = df_train['close'] \n",
    "\n",
    "df_test_x = df_test[['open', 'high', 'low', 'sentiment']]\n",
    "df_test_y = df_test['close']\n",
    "df_test_y"
   ]
  },
  {
   "cell_type": "code",
   "execution_count": 9,
   "id": "3591ec2c",
   "metadata": {
    "scrolled": false
   },
   "outputs": [
    {
     "data": {
      "text/plain": [
       "RandomForestClassifier()"
      ]
     },
     "execution_count": 9,
     "metadata": {},
     "output_type": "execute_result"
    }
   ],
   "source": [
    "forest = RandomForestClassifier()\n",
    "forest.fit(df_train_x, df_train_y)"
   ]
  },
  {
   "cell_type": "code",
   "execution_count": 10,
   "id": "1b078491",
   "metadata": {
    "scrolled": true
   },
   "outputs": [
    {
     "name": "stdout",
     "output_type": "stream",
     "text": [
      "Accuracy: 0.8387\n"
     ]
    }
   ],
   "source": [
    "print(\"Accuracy: \" + str(round(forest.score(df_test_x, df_test_y), 4)))"
   ]
  },
  {
   "cell_type": "code",
   "execution_count": 16,
   "id": "930c5362",
   "metadata": {
    "scrolled": false
   },
   "outputs": [
    {
     "data": {
      "text/html": [
       "<div>\n",
       "<style scoped>\n",
       "    .dataframe tbody tr th:only-of-type {\n",
       "        vertical-align: middle;\n",
       "    }\n",
       "\n",
       "    .dataframe tbody tr th {\n",
       "        vertical-align: top;\n",
       "    }\n",
       "\n",
       "    .dataframe thead th {\n",
       "        text-align: right;\n",
       "    }\n",
       "</style>\n",
       "<table border=\"1\" class=\"dataframe\">\n",
       "  <thead>\n",
       "    <tr style=\"text-align: right;\">\n",
       "      <th></th>\n",
       "      <th>importance</th>\n",
       "    </tr>\n",
       "  </thead>\n",
       "  <tbody>\n",
       "    <tr>\n",
       "      <th>open</th>\n",
       "      <td>0.333143</td>\n",
       "    </tr>\n",
       "    <tr>\n",
       "      <th>low</th>\n",
       "      <td>0.315143</td>\n",
       "    </tr>\n",
       "    <tr>\n",
       "      <th>high</th>\n",
       "      <td>0.271867</td>\n",
       "    </tr>\n",
       "    <tr>\n",
       "      <th>sentiment</th>\n",
       "      <td>0.079846</td>\n",
       "    </tr>\n",
       "  </tbody>\n",
       "</table>\n",
       "</div>"
      ],
      "text/plain": [
       "           importance\n",
       "open         0.333143\n",
       "low          0.315143\n",
       "high         0.271867\n",
       "sentiment    0.079846"
      ]
     },
     "execution_count": 16,
     "metadata": {},
     "output_type": "execute_result"
    }
   ],
   "source": [
    "importances = forest.feature_importances_\n",
    "features = df_test_x.columns\n",
    "feature_importances = pd.DataFrame(forest.feature_importances_, index = features,  columns=['importance']).sort_values('importance', ascending=False)\n",
    "feature_importances"
   ]
  },
  {
   "cell_type": "code",
   "execution_count": 17,
   "id": "4a783798",
   "metadata": {
    "scrolled": true
   },
   "outputs": [],
   "source": [
    "tree = DecisionTreeClassifier(max_depth=5)"
   ]
  },
  {
   "cell_type": "code",
   "execution_count": 18,
   "id": "1b6e7c2c",
   "metadata": {},
   "outputs": [
    {
     "data": {
      "text/plain": [
       "DecisionTreeClassifier(max_depth=5)"
      ]
     },
     "execution_count": 18,
     "metadata": {},
     "output_type": "execute_result"
    }
   ],
   "source": [
    "tree.fit(df_train_x, df_train_y)"
   ]
  },
  {
   "cell_type": "code",
   "execution_count": 19,
   "id": "57445df8",
   "metadata": {
    "scrolled": false
   },
   "outputs": [
    {
     "name": "stdout",
     "output_type": "stream",
     "text": [
      "Accuracy: 0.7742\n"
     ]
    }
   ],
   "source": [
    "print(\"Accuracy: \" + str(round(tree.score(df_test_x, df_test_y), 4)))"
   ]
  },
  {
   "cell_type": "code",
   "execution_count": 20,
   "id": "ccf37371",
   "metadata": {},
   "outputs": [
    {
     "data": {
      "text/html": [
       "<div>\n",
       "<style scoped>\n",
       "    .dataframe tbody tr th:only-of-type {\n",
       "        vertical-align: middle;\n",
       "    }\n",
       "\n",
       "    .dataframe tbody tr th {\n",
       "        vertical-align: top;\n",
       "    }\n",
       "\n",
       "    .dataframe thead th {\n",
       "        text-align: right;\n",
       "    }\n",
       "</style>\n",
       "<table border=\"1\" class=\"dataframe\">\n",
       "  <thead>\n",
       "    <tr style=\"text-align: right;\">\n",
       "      <th></th>\n",
       "      <th>importance</th>\n",
       "    </tr>\n",
       "  </thead>\n",
       "  <tbody>\n",
       "    <tr>\n",
       "      <th>open</th>\n",
       "      <td>0.789095</td>\n",
       "    </tr>\n",
       "    <tr>\n",
       "      <th>low</th>\n",
       "      <td>0.120743</td>\n",
       "    </tr>\n",
       "    <tr>\n",
       "      <th>high</th>\n",
       "      <td>0.049229</td>\n",
       "    </tr>\n",
       "    <tr>\n",
       "      <th>sentiment</th>\n",
       "      <td>0.040933</td>\n",
       "    </tr>\n",
       "  </tbody>\n",
       "</table>\n",
       "</div>"
      ],
      "text/plain": [
       "           importance\n",
       "open         0.789095\n",
       "low          0.120743\n",
       "high         0.049229\n",
       "sentiment    0.040933"
      ]
     },
     "execution_count": 20,
     "metadata": {},
     "output_type": "execute_result"
    }
   ],
   "source": [
    "importances = forest.feature_importances_\n",
    "features = df_test_x.columns\n",
    "feature_importances = pd.DataFrame(tree.feature_importances_, index = features,  columns=['importance']).sort_values('importance', ascending=False)\n",
    "feature_importances"
   ]
  },
  {
   "cell_type": "code",
   "execution_count": 21,
   "id": "9132398a",
   "metadata": {
    "scrolled": true
   },
   "outputs": [
    {
     "data": {
      "text/plain": [
       "<BarContainer object of 4 artists>"
      ]
     },
     "execution_count": 21,
     "metadata": {},
     "output_type": "execute_result"
    },
    {
     "data": {
      "image/png": "[encoded data removed]",
      "text/plain": [
       "<Figure size 432x288 with 1 Axes>"
      ]
     },
     "metadata": {
      "needs_background": "light"
     },
     "output_type": "display_data"
    }
   ],
   "source": [
    "plt.barh(features, tree.feature_importances_)"
   ]
  },
  {
   "cell_type": "code",
   "execution_count": 22,
   "id": "f588443f",
   "metadata": {},
   "outputs": [
    {
     "data": {
      "text/plain": [
       "<BarContainer object of 4 artists>"
      ]
     },
     "execution_count": 22,
     "metadata": {},
     "output_type": "execute_result"
    },
    {
     "data": {
      "image/png": "[encoded data removed]",
      "text/plain": [
       "<Figure size 432x288 with 1 Axes>"
      ]
     },
     "metadata": {
      "needs_background": "light"
     },
     "output_type": "display_data"
    }
   ],
   "source": [
    "plt.barh(features, forest.feature_importances_)"
   ]
  },
  {
   "cell_type": "code",
   "execution_count": null,
   "id": "b35b62cd",
   "metadata": {},
   "outputs": [],
   "source": []
  }
 ],
 "metadata": {
  "kernelspec": {
   "display_name": "Python 3",
   "language": "python",
   "name": "python3"
  },
  "language_info": {
   "codemirror_mode": {
    "name": "ipython",
    "version": 3
   },
   "file_extension": ".py",
   "mimetype": "text/x-python",
   "name": "python",
   "nbconvert_exporter": "python",
   "pygments_lexer": "ipython3",
   "version": "3.8.8"
  }
 },
 "nbformat": 4,
 "nbformat_minor": 5
}
